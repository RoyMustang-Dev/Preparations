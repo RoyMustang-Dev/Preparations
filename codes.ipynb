{
 "cells": [
  {
   "cell_type": "code",
   "execution_count": 1,
   "metadata": {},
   "outputs": [],
   "source": [
    "import numpy as np\n",
    "import matplotlib.pyplot as plt\n",
    "import pandas as pd"
   ]
  },
  {
   "cell_type": "markdown",
   "metadata": {},
   "source": [
    "### `Conceptual Interview Questions`"
   ]
  },
  {
   "cell_type": "markdown",
   "metadata": {},
   "source": [
    "##### Ques 1.) Why is Python called Interpreted Language"
   ]
  },
  {
   "cell_type": "markdown",
   "metadata": {},
   "source": [
    "##### Ques 2.) What are Python Sets and its properties"
   ]
  },
  {
   "cell_type": "markdown",
   "metadata": {},
   "source": [
    "##### Ques 3.) What is the difference between Python List and Tuple"
   ]
  },
  {
   "cell_type": "markdown",
   "metadata": {},
   "source": [
    "##### Ques 4.) What is the difference between Python Dictionary and JSON"
   ]
  },
  {
   "cell_type": "markdown",
   "metadata": {},
   "source": [
    "##### Ques 5.) What is the difference between Python List Comprehension and Generator Expression"
   ]
  },
  {
   "cell_type": "markdown",
   "metadata": {},
   "source": [
    "##### Ques 6.) What is the difference between Python Lambda Function and Normal Function"
   ]
  },
  {
   "cell_type": "markdown",
   "metadata": {},
   "source": [
    "##### Ques 7.) What is the difference between Python Map, Filter, and Reduce"
   ]
  },
  {
   "cell_type": "markdown",
   "metadata": {},
   "source": [
    "##### Ques 8.) What is the difference between Python Decorators and Higher-Order Functions"
   ]
  },
  {
   "cell_type": "markdown",
   "metadata": {},
   "source": [
    "##### Ques 9.) What is the difference between Python Context Manager and Try-Except Block"
   ]
  },
  {
   "cell_type": "markdown",
   "metadata": {},
   "source": [
    "##### Ques 10.) What is the difference between Python Static Method and Class Method"
   ]
  },
  {
   "cell_type": "markdown",
   "metadata": {},
   "source": [
    "##### Ques 11.) Convert Sting into List"
   ]
  },
  {
   "cell_type": "markdown",
   "metadata": {},
   "source": [
    "##### Ques 12.) Convert List into String"
   ]
  },
  {
   "cell_type": "markdown",
   "metadata": {},
   "source": [
    "##### Ques 13.) Convert String into Tuple"
   ]
  },
  {
   "cell_type": "markdown",
   "metadata": {},
   "source": [
    "##### Ques 14.) Convert Tuple into List"
   ]
  },
  {
   "cell_type": "markdown",
   "metadata": {},
   "source": [
    "##### Ques 15.) Convert List into Dictionary"
   ]
  },
  {
   "cell_type": "markdown",
   "metadata": {},
   "source": [
    "##### Ques 16.) What are Comparison Operators in Python"
   ]
  },
  {
   "cell_type": "markdown",
   "metadata": {},
   "source": [
    "##### Ques 17.) What are Logical Operators in Python"
   ]
  },
  {
   "cell_type": "markdown",
   "metadata": {},
   "source": [
    "##### Ques 18.) What are Assignment Operators in Python"
   ]
  },
  {
   "cell_type": "markdown",
   "metadata": {},
   "source": [
    "##### Ques 19.) What are Bitwise Operators in Python"
   ]
  },
  {
   "cell_type": "markdown",
   "metadata": {},
   "source": [
    "##### Ques 20.) What are Membership Operators in Python"
   ]
  },
  {
   "cell_type": "markdown",
   "metadata": {},
   "source": [
    "##### Ques 21.) What are Functions and how many types of Functions are there in Python"
   ]
  },
  {
   "cell_type": "markdown",
   "metadata": {},
   "source": [
    "##### Ques 22.) What is Lambda Function in Python"
   ]
  },
  {
   "cell_type": "markdown",
   "metadata": {},
   "source": [
    "##### Ques 23.) What is Map Function in Python"
   ]
  },
  {
   "cell_type": "markdown",
   "metadata": {},
   "source": [
    "##### Ques 24.) What is Filter Function in Python"
   ]
  },
  {
   "cell_type": "markdown",
   "metadata": {},
   "source": [
    "##### Ques 25.) What is Reduce Function in Python"
   ]
  },
  {
   "cell_type": "markdown",
   "metadata": {},
   "source": [
    "##### Ques 26.) What is Indexing and what is Negative Indexing in Python"
   ]
  },
  {
   "cell_type": "markdown",
   "metadata": {},
   "source": [
    "##### Ques 27.) What is Slicing in Python"
   ]
  },
  {
   "cell_type": "markdown",
   "metadata": {},
   "source": [
    "##### Ques 28.) What is List Comprehension in Python"
   ]
  },
  {
   "cell_type": "markdown",
   "metadata": {},
   "source": [
    "##### Ques 29.) What is Generator Expression in Python"
   ]
  },
  {
   "cell_type": "markdown",
   "metadata": {},
   "source": [
    "##### Ques 30.) What is Dictionary Comprehension in Python"
   ]
  },
  {
   "cell_type": "markdown",
   "metadata": {},
   "source": [
    "##### Ques 31.) What is difference b/w a Module and a Package"
   ]
  },
  {
   "cell_type": "markdown",
   "metadata": {},
   "source": [
    "##### Ques 32.) What is the use of Decorators in Python"
   ]
  },
  {
   "cell_type": "markdown",
   "metadata": {},
   "source": [
    "##### Ques 33.) What is Exception Handling and How it is done in Python"
   ]
  },
  {
   "cell_type": "markdown",
   "metadata": {},
   "source": [
    "##### Ques 34.) What is Inheritance and the diffrence b/w Single and Multiple Inheritance"
   ]
  },
  {
   "cell_type": "markdown",
   "metadata": {},
   "source": [
    "##### Ques 35.) What is the difference b/w `is` and `==` in Python"
   ]
  },
  {
   "cell_type": "markdown",
   "metadata": {},
   "source": [
    "##### Ques 36.) What are Generators and their use in Python"
   ]
  },
  {
   "cell_type": "markdown",
   "metadata": {},
   "source": [
    "##### Ques 36.) What is Shallow Copy and Deep Copy in Python"
   ]
  },
  {
   "cell_type": "markdown",
   "metadata": {},
   "source": [
    "##### Ques 37.) How memory is managed in Python"
   ]
  },
  {
   "cell_type": "markdown",
   "metadata": {},
   "source": [
    "##### Ques 38.) What is the difference b/w Generator and Iterator"
   ]
  },
  {
   "cell_type": "markdown",
   "metadata": {},
   "source": [
    "##### Ques 39.) What is `init` keyword in Python"
   ]
  },
  {
   "cell_type": "markdown",
   "metadata": {},
   "source": [
    "##### Ques 40.) What is the difference b/w `Range()` & `Xrange()`"
   ]
  },
  {
   "cell_type": "markdown",
   "metadata": {},
   "source": [
    "**`Note 1: Built-in Data Types with Mutability and Immutability Property `**<br/>\n",
    "\n",
    "<div>\n",
    "    <img src=\"Screenshot 2024-06-20 171106.png\"><br/>\n",
    "<div><br/>"
   ]
  },
  {
   "cell_type": "markdown",
   "metadata": {},
   "source": [
    "**`Note 2: Local vs Global Variables `**<br/>\n",
    "\n",
    "<div>\n",
    "    <img src=\"Screenshot 2024-06-20 172158.png\"><br/>\n",
    "<div><br/>"
   ]
  },
  {
   "cell_type": "markdown",
   "metadata": {},
   "source": [
    "**`Note 3: Break vs Continue vs Pass Statement `**<br/>\n",
    "\n",
    "<div>\n",
    "    <img src=\"Screenshot 2024-06-20 172411.png\"><br/>\n",
    "<div><br/>"
   ]
  },
  {
   "cell_type": "markdown",
   "metadata": {},
   "source": [
    "**`Note 4: Functions of List vs Set vs Tuple vs Dictionary`**<br/>\n",
    "\n",
    "<div>\n",
    "    <img src=\"Screenshot 2024-06-20 172956.png\"><br/>\n",
    "<div><br/>"
   ]
  },
  {
   "cell_type": "markdown",
   "metadata": {},
   "source": [
    "**`Note 5: *args & **kwargs`**<br/>\n",
    "\n",
    "<div>\n",
    "    <img src=\"Screenshot 2024-06-20 173519.png\"><br/>\n",
    "<div><br/>"
   ]
  },
  {
   "cell_type": "markdown",
   "metadata": {},
   "source": [
    "**`Note 6: different ways to Read & Write a File in Python`**<br/>\n",
    "\n",
    "<div>\n",
    "    <img src=\"Screenshot 2024-06-20 173944.png\"><br/>\n",
    "<div><br/>"
   ]
  },
  {
   "cell_type": "markdown",
   "metadata": {},
   "source": [
    "**`Note 7: Python 2.0 vs Python 3.0`**<br/>\n",
    "\n",
    "<div>\n",
    "    <img src=\"Screenshot 2024-06-20 174508.png\"><br/>\n",
    "<div><br/>"
   ]
  },
  {
   "cell_type": "markdown",
   "metadata": {},
   "source": [
    "**`Note 8: Abstraction vs Encapsulation`**<br/>\n",
    "\n",
    "<div>\n",
    "    <img src=\"Screenshot 2024-06-20 175050.png\"><br/>\n",
    "<div><br/>"
   ]
  },
  {
   "cell_type": "markdown",
   "metadata": {},
   "source": [
    "**`Note 9: .py vs .pyc`**<br/>\n",
    "\n",
    "<div>\n",
    "    <img src=\"Screenshot 2024-06-20 175457.png\"><br/>\n",
    "<div><br/>"
   ]
  },
  {
   "cell_type": "markdown",
   "metadata": {},
   "source": [
    "##### Ques 41.) What is Ternary Operator in Python"
   ]
  },
  {
   "cell_type": "markdown",
   "metadata": {},
   "source": [
    "##### Ques 42.) What is `self` keyword in Python"
   ]
  },
  {
   "cell_type": "markdown",
   "metadata": {},
   "source": [
    "##### Ques 43.) What is Pickeling vs Unpickeling"
   ]
  },
  {
   "cell_type": "markdown",
   "metadata": {},
   "source": [
    "##### Ques 44.) Explain Type Conversions in Python"
   ]
  },
  {
   "cell_type": "markdown",
   "metadata": {},
   "source": [
    "##### Ques 45.) What is `Open` & `With` Statements"
   ]
  },
  {
   "cell_type": "markdown",
   "metadata": {},
   "source": [
    "##### Ques 46.) What is Exception Handling in Python"
   ]
  },
  {
   "cell_type": "markdown",
   "metadata": {},
   "source": [
    "##### Ques 47.) How to use `f-string`, `.format()`, and/or Replacement Operator"
   ]
  },
  {
   "cell_type": "markdown",
   "metadata": {},
   "source": [
    "##### Ques 48.) How to get list of all the keys in a dictionary"
   ]
  },
  {
   "cell_type": "markdown",
   "metadata": {},
   "source": [
    "##### Ques 49.) Does Python support Multiple-inheritance (Diamond Problem)"
   ]
  },
  {
   "cell_type": "markdown",
   "metadata": {},
   "source": [
    "##### Ques 50.) How to achieve Multiprocessing & Multithreading in Python"
   ]
  },
  {
   "cell_type": "markdown",
   "metadata": {},
   "source": [
    "##### Ques 51.) What is Global Interpretor Lock (GIL)"
   ]
  },
  {
   "cell_type": "markdown",
   "metadata": {},
   "source": [
    "##### Ques 52.) What are Unittests in Python"
   ]
  },
  {
   "cell_type": "markdown",
   "metadata": {},
   "source": [
    "##### Ques 53.) What does the term Monkey Patching mean?"
   ]
  },
  {
   "cell_type": "markdown",
   "metadata": {},
   "source": [
    "##### Ques 54.) What is Operator Overloading & Dunder Method in Python"
   ]
  },
  {
   "cell_type": "markdown",
   "metadata": {},
   "source": [
    "### `Coding Interview Questions`"
   ]
  },
  {
   "cell_type": "markdown",
   "metadata": {},
   "source": [
    "##### Ques 1.) Write Python Code to Check for Leap Year"
   ]
  },
  {
   "cell_type": "code",
   "execution_count": 4,
   "metadata": {},
   "outputs": [
    {
     "name": "stdout",
     "output_type": "stream",
     "text": [
      "2026 is not a leap year\n"
     ]
    }
   ],
   "source": [
    "year = int(input(\"Enter a Year: \"))\n",
    "\n",
    "if (year % 400 == 0) and (year % 100 == 0):\n",
    "    print(\"{0} is a leap year\".format(year))\n",
    "elif (year % 4 == 0) and (year % 100 != 0):\n",
    "    print(\"{0} is a leap year\".format(year))\n",
    "else:\n",
    "    print(\"{0} is not a leap year\".format(year))"
   ]
  },
  {
   "cell_type": "markdown",
   "metadata": {},
   "source": [
    "##### Ques 2.) Write a Python program to Check for the Armstrong Number"
   ]
  },
  {
   "cell_type": "code",
   "execution_count": 6,
   "metadata": {},
   "outputs": [
    {
     "name": "stdout",
     "output_type": "stream",
     "text": [
      "163 is not an Armstrong Number\n"
     ]
    }
   ],
   "source": [
    "num = int(input(\"Enter the Number: \"))\n",
    "\n",
    "sum = 0\n",
    "temp = num\n",
    "\n",
    "while temp > 0:\n",
    "    digit = temp % 10\n",
    "    sum += digit ** 3\n",
    "    temp //= 10\n",
    "\n",
    "if num == sum:\n",
    "    print(num, \"is an Armstong Number\")\n",
    "else:\n",
    "    print(num, \"is not an Armstrong Number\")"
   ]
  },
  {
   "cell_type": "markdown",
   "metadata": {},
   "source": [
    "##### Ques 3.) Write a Python Program to Check whether a String is Palindrome or Not"
   ]
  },
  {
   "cell_type": "code",
   "execution_count": 34,
   "metadata": {},
   "outputs": [
    {
     "name": "stdout",
     "output_type": "stream",
     "text": [
      "The string Nitin is a Palindrome\n"
     ]
    }
   ],
   "source": [
    "input_string = input(\"Enter the String: \")\n",
    "str = input_string\n",
    "\n",
    "str = str.casefold()\n",
    "reversed_string = \"\".join(reversed(str))\n",
    "\n",
    "if str == reversed_string:\n",
    "    print(\"The string\", (input_string), \"is a Palindrome\")\n",
    "else :\n",
    "    print(\"The string\",(input_string),\"is not a Palindrome\")"
   ]
  },
  {
   "cell_type": "markdown",
   "metadata": {},
   "source": [
    "##### Ques 4.) Write a Python Program to Swap 2 Variables"
   ]
  },
  {
   "cell_type": "code",
   "execution_count": 35,
   "metadata": {},
   "outputs": [
    {
     "name": "stdout",
     "output_type": "stream",
     "text": [
      "The value of x after Swapping =  3\n",
      "The value of y after Swapping =  5\n"
     ]
    }
   ],
   "source": [
    "# First Method\n",
    "\n",
    "x = 5\n",
    "y = 3\n",
    "temp = x\n",
    "x = y\n",
    "y = temp\n",
    "print(\"The value of x after Swapping = \", x)\n",
    "print(\"The value of y after Swapping = \", y)"
   ]
  },
  {
   "cell_type": "code",
   "execution_count": 36,
   "metadata": {},
   "outputs": [
    {
     "name": "stdout",
     "output_type": "stream",
     "text": [
      "The value of x after Swapping =  3\n",
      "The value of y after Swapping =  5\n"
     ]
    }
   ],
   "source": [
    "# Second Method - for Python only\n",
    "\n",
    "x = 5\n",
    "y = 3\n",
    "\n",
    "x,y = y,x\n",
    "\n",
    "print(\"The value of x after Swapping = \", x)\n",
    "print(\"The value of y after Swapping = \", y)"
   ]
  },
  {
   "cell_type": "markdown",
   "metadata": {},
   "source": [
    "##### Ques 5.) Write a Python Program to Check if the Number is Prime Number or Not"
   ]
  },
  {
   "cell_type": "code",
   "execution_count": 37,
   "metadata": {},
   "outputs": [],
   "source": [
    "def is_prime(num):\n",
    "    if num < 2:\n",
    "        return False\n",
    "    \n",
    "    for i in range(2, int(num**0.5) + 1):\n",
    "        if num % i == 0:\n",
    "            return False\n",
    "        \n",
    "    return True"
   ]
  },
  {
   "cell_type": "code",
   "execution_count": 40,
   "metadata": {},
   "outputs": [
    {
     "name": "stdout",
     "output_type": "stream",
     "text": [
      "71 is a Prime Number\n"
     ]
    }
   ],
   "source": [
    "num = int(input(\"Enter the Number: \"))\n",
    "if is_prime(num):\n",
    "    print(f\"{num} is a Prime Number\")\n",
    "else:\n",
    "    print(f\"{num} is not a Prime Number\")"
   ]
  },
  {
   "cell_type": "markdown",
   "metadata": {},
   "source": [
    "##### Ques 6.) Write a Python Program to Find the Factorial of a Number"
   ]
  },
  {
   "cell_type": "code",
   "execution_count": 46,
   "metadata": {},
   "outputs": [
    {
     "name": "stdout",
     "output_type": "stream",
     "text": [
      "The Factorial of 500 is 1220136825991110068701238785423046926253574342803192842192413588385845373153881997605496447502203281863013616477148203584163378722078177200480785205159329285477907571939330603772960859086270429174547882424912726344305670173270769461062802310452644218878789465754777149863494367781037644274033827365397471386477878495438489595537537990423241061271326984327745715546309977202781014561081188373709531016356324432987029563896628911658974769572087926928871281780070265174507768410719624390394322536422605234945850129918571501248706961568141625359056693423813008856249246891564126775654481886506593847951775360894005745238940335798476363944905313062323749066445048824665075946735862074637925184200459369692981022263971952597190945217823331756934581508552332820762820023402626907898342451712006207714640979456116127629145951237229913340169552363850942885592018727433795173014586357570828355780158735432768888680120399882384702151467605445407663535984174430480128938313896881639487469658817504506926365338175055478128640000000000000000000000000000000000000000000000000000000000000000000000000000000000000000000000000000000000000000000000000000\n"
     ]
    }
   ],
   "source": [
    "# First Method\n",
    "\n",
    "def compute_factorial(num):\n",
    "    factorial = 1\n",
    "    if num < 0:\n",
    "        print(\"Sorry, the Factorial does not exist for the Negative Numbers\")\n",
    "    elif num == 0 or num == 1:\n",
    "        print(\"The Factorial of 0 or 1 is 1\")\n",
    "    else:\n",
    "        for i in range(1, num + 1):\n",
    "            factorial *= i\n",
    "        print(\"The Factorial of\", num, \"is\", factorial)\n",
    "\n",
    "compute_factorial(int(input(\"Enter the Number: \")))"
   ]
  },
  {
   "cell_type": "code",
   "execution_count": 69,
   "metadata": {},
   "outputs": [
    {
     "name": "stdout",
     "output_type": "stream",
     "text": [
      "The Factorial of {2: 2, 3: 6, 4: 24, 5: 120} is 120\n",
      "The Factorial of 5 is 120\n"
     ]
    }
   ],
   "source": [
    "# Second Method\n",
    "\n",
    "memo = {}\n",
    "def factorial_memory(n):\n",
    "    if n == 0 or n == 1:\n",
    "        return 1\n",
    "    elif n in memo:\n",
    "        return memo[n]\n",
    "    else:\n",
    "        memo[n] = n * factorial_memory(n-1)\n",
    "    return memo[n]\n",
    "\n",
    "print(\"The Factorial of\", memo, \"is\", factorial_memory(int(input(\"Enter the Number: \"))))\n",
    "print(\"The Factorial of\", max(memo.keys()), \"is\", memo[max(memo.keys())])"
   ]
  },
  {
   "cell_type": "markdown",
   "metadata": {},
   "source": [
    "##### Ques 7.) Write a Python Code to Generate Random Numbers"
   ]
  },
  {
   "cell_type": "code",
   "execution_count": 72,
   "metadata": {},
   "outputs": [
    {
     "name": "stdout",
     "output_type": "stream",
     "text": [
      "Randomly Generated Floating Point Number 0.6239364264185192\n",
      "\n",
      "Randomly Generated Floating Point Number within Specified Range 43.93098204302131\n",
      "\n",
      "Randomly Generated Integer within Specified Range 27\n",
      "\n",
      "Randomly Generated Even Number within Specified Range 58\n",
      "\n",
      "Randomly Generated Series of 10 Numbers within Specified Range [29, 49, 55, 91, 26, 5, 20, 36, 92, 41]\n"
     ]
    }
   ],
   "source": [
    "import random\n",
    "\n",
    "# Random Float\n",
    "num = random.random()\n",
    "print(\"Randomly Generated Floating Point Number\",num)\n",
    "\n",
    "# Random Float in Specified Range\n",
    "num2 = random.uniform(1,100)\n",
    "print(\"\\nRandomly Generated Floating Point Number within Specified Range\", num2)\n",
    "\n",
    "# Random Integer in Specified Range\n",
    "num3 = random.randint(1,100)\n",
    "print(\"\\nRandomly Generated Integer within Specified Range\", num3)\n",
    "\n",
    "# Random Even Number in Specified Range\n",
    "num4 = random.randrange(2, 100, 2)\n",
    "print(\"\\nRandomly Generated Even Number within Specified Range\", num4)\n",
    "\n",
    "# Random Series\n",
    "num5 = random.sample(range(1, 100), 10)\n",
    "print(\"\\nRandomly Generated Series of 10 Numbers within Specified Range\", num5)"
   ]
  },
  {
   "cell_type": "markdown",
   "metadata": {},
   "source": [
    "##### Ques 8.) Write a Python Code to Generate the First 10 numbers in Fibonacci Series"
   ]
  },
  {
   "cell_type": "code",
   "execution_count": 86,
   "metadata": {},
   "outputs": [
    {
     "name": "stdout",
     "output_type": "stream",
     "text": [
      "The Fibonacci Series for the Entered Number 10 is as follows - \n",
      "\n",
      "0\n",
      "1\n",
      "1\n",
      "2\n",
      "3\n",
      "5\n",
      "8\n",
      "13\n",
      "21\n",
      "34\n"
     ]
    }
   ],
   "source": [
    "def print_fibonacci(num):\n",
    "    a, b = 0, 1\n",
    "    if num < 1:\n",
    "        print(\"Null\")\n",
    "    elif num == 1:\n",
    "        print(a)\n",
    "    elif num == 2:\n",
    "        print(a)\n",
    "        print(b)\n",
    "    elif num > 2:\n",
    "        print(a)\n",
    "        print(b)\n",
    "        # Generate next num in the series\n",
    "        for _ in range(num-2):\n",
    "            c = a + b\n",
    "            # Update a and b to prepare for the next iteration\n",
    "            a,b = b,c\n",
    "            # Print the next number in the series\n",
    "            print(c)\n",
    "\n",
    "num = int(input(\"Enter the Number: \"))\n",
    "print(\"The Fibonacci Series for the Entered Number\", num, \"is as follows - \\n\")\n",
    "print_fibonacci(num)"
   ]
  },
  {
   "cell_type": "markdown",
   "metadata": {},
   "source": [
    "##### Ques 9.) Write a Python Code to Find Square Root of any Number"
   ]
  },
  {
   "cell_type": "code",
   "execution_count": 89,
   "metadata": {},
   "outputs": [
    {
     "name": "stdout",
     "output_type": "stream",
     "text": [
      "The Square Root of 8.900 is 2.983\n"
     ]
    }
   ],
   "source": [
    "# For Real Numbers\n",
    "\n",
    "num = float(input(\"Enter the Number: \"))\n",
    "num_sqrt = num ** 0.5\n",
    "print('The Square Root of %0.3f is %0.3f'%(num, num_sqrt))"
   ]
  },
  {
   "cell_type": "code",
   "execution_count": 91,
   "metadata": {},
   "outputs": [
    {
     "name": "stdout",
     "output_type": "stream",
     "text": [
      "The Square Root of -8 is 0.000 + 2.828j\n"
     ]
    }
   ],
   "source": [
    "#  For Complex Numbers\n",
    "\n",
    "import cmath\n",
    "\n",
    "# num = 1 + 2j\n",
    "num = eval(input(\"Enter the Number: \"))\n",
    "num_sqrt = cmath.sqrt(num)\n",
    "print(\"The Square Root of {0} is {1:0.3f} + {2:0.3f}j\".format(num, num_sqrt.real, num_sqrt.imag)) "
   ]
  },
  {
   "cell_type": "markdown",
   "metadata": {},
   "source": [
    "##### Ques 10.) Write a Python Code to Swap Elements in a List"
   ]
  },
  {
   "cell_type": "code",
   "execution_count": 94,
   "metadata": {},
   "outputs": [
    {
     "ename": "TypeError",
     "evalue": "'str' object is not callable",
     "output_type": "error",
     "traceback": [
      "\u001b[1;31m---------------------------------------------------------------------------\u001b[0m",
      "\u001b[1;31mTypeError\u001b[0m                                 Traceback (most recent call last)",
      "Cell \u001b[1;32mIn[94], line 6\u001b[0m\n\u001b[0;32m      3\u001b[0m n \u001b[38;5;241m=\u001b[39m \u001b[38;5;28mint\u001b[39m(\u001b[38;5;28minput\u001b[39m(\u001b[38;5;124m\"\u001b[39m\u001b[38;5;124mEnter the number of elements in list: \u001b[39m\u001b[38;5;124m\"\u001b[39m))\n\u001b[0;32m      5\u001b[0m \u001b[38;5;28;01mfor\u001b[39;00m x \u001b[38;5;129;01min\u001b[39;00m \u001b[38;5;28mrange\u001b[39m(\u001b[38;5;241m0\u001b[39m, n):\n\u001b[1;32m----> 6\u001b[0m     element \u001b[38;5;241m=\u001b[39m \u001b[38;5;28mint\u001b[39m(\u001b[38;5;28minput\u001b[39m(\u001b[38;5;124m\"\u001b[39m\u001b[38;5;124mEnter element \u001b[39m\u001b[38;5;124m\"\u001b[39m \u001b[38;5;241m+\u001b[39m \u001b[38;5;28;43mstr\u001b[39;49m\u001b[43m(\u001b[49m\u001b[43mx\u001b[49m\u001b[38;5;241;43m+\u001b[39;49m\u001b[38;5;241;43m1\u001b[39;49m\u001b[43m)\u001b[49m \u001b[38;5;241m+\u001b[39m \u001b[38;5;124m\"\u001b[39m\u001b[38;5;124m: \u001b[39m\u001b[38;5;124m\"\u001b[39m))\n\u001b[0;32m      7\u001b[0m     a\u001b[38;5;241m.\u001b[39mappend(element)\n\u001b[0;32m      9\u001b[0m \u001b[38;5;28mprint\u001b[39m(\u001b[38;5;124m\"\u001b[39m\u001b[38;5;124mThe list is:\u001b[39m\u001b[38;5;124m\"\u001b[39m, a)\n",
      "\u001b[1;31mTypeError\u001b[0m: 'str' object is not callable"
     ]
    }
   ],
   "source": [
    "a = []\n",
    "\n",
    "n = int(input(\"Enter the number of elements in list: \"))\n",
    "\n",
    "for x in range(0, n):\n",
    "    element = int(input(\"Enter element \" + str(x+1) + \": \"))\n",
    "    a.append(element)\n",
    "\n",
    "print(\"The list is:\", a)"
   ]
  },
  {
   "cell_type": "markdown",
   "metadata": {},
   "source": [
    "##### Ques 11.) Write a Python Code to Reverse a String"
   ]
  },
  {
   "cell_type": "code",
   "execution_count": 95,
   "metadata": {},
   "outputs": [
    {
     "name": "stdout",
     "output_type": "stream",
     "text": [
      "The Original string is:  Aditya Mishra\n",
      "The Reverse string is:  arhsiM aytidA\n"
     ]
    }
   ],
   "source": [
    "str1 = \"Aditya Mishra\"\n",
    "str2 = \"\"\n",
    "for i in str1:\n",
    "    str2 = i + str2\n",
    "\n",
    "print(\"The Original string is: \", str1)\n",
    "print(\"The Reverse string is: \", str2)"
   ]
  },
  {
   "cell_type": "code",
   "execution_count": null,
   "metadata": {},
   "outputs": [],
   "source": []
  }
 ],
 "metadata": {
  "kernelspec": {
   "display_name": "Python 3",
   "language": "python",
   "name": "python3"
  },
  "language_info": {
   "codemirror_mode": {
    "name": "ipython",
    "version": 3
   },
   "file_extension": ".py",
   "mimetype": "text/x-python",
   "name": "python",
   "nbconvert_exporter": "python",
   "pygments_lexer": "ipython3",
   "version": "3.12.3"
  }
 },
 "nbformat": 4,
 "nbformat_minor": 2
}
